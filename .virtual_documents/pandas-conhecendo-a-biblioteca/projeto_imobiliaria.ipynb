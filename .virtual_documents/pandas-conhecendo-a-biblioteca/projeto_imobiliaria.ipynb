





import pandas as pd


url = 'https://raw.githubusercontent.com/alura-cursos/pandas-conhecendo-a-biblioteca/main/base-de-dados/aluguel.csv'
dados = pd.read_csv(url, sep = ';')


dados.head()





dados.shape


dados.columns


dados.info()


dados['Tipo']


dados[['Quartos','Valor']]








dados.head(10)


dados.groupby('Tipo')[['Valor']].mean().sort_values('Valor')





dados['Tipo'].unique()


imoveis_comerciais = ['Conjunto Comercial/Sala','Prédio Inteiro','Loja/Salão','Galpão/Depósito/Armazém', 'Casa Comercial','Terreno Padrão','Loja Shopping/ Ct Comercial','Box/Garagem','Chácara', 'Loteamento/Condomínio','Sítio','Pousada/Chalé','Hotel','Indústria','Studio']


dados.query('@imoveis_comerciais not in Tipo')


imoveis_residenciais = dados.query('@imoveis_comerciais not in Tipo')
imoveis_comerciais = dados.query('@imoveis_comerciais in Tipo')


imoveis_residenciais.Tipo.unique()





df_media_aluguel_por_imovel_residencial = imoveis_residenciais.groupby('Tipo')[['Valor']].mean().sort_values('Valor')
df_media_aluguel_por_imovel_comercial = imoveis_comerciais.groupby('Tipo')[['Valor']].mean().sort_values('Valor')


df_media_aluguel_por_imovel_residencial.plot(kind = 'barh', color = 'blue')
df_media_aluguel_por_imovel_comercial.plot(kind = 'barh', color = 'gray')





imoveis_residenciais.Tipo.unique()



#Verificação de quantas vezes cada tipo de imóvel residencial aparece nos dados
imoveis_residenciais.Tipo.value_counts(normalize=True)


imoveis_residenciais.Tipo.value_counts(normalize=True).to_frame().sort_values('proportion') # Percentuais ordenados em forma crescente


df_percent_for_tipo = imoveis_residenciais.Tipo.value_counts(normalize=True).to_frame().sort_values('proportion')



df_percent_for_tipo.plot(kind = 'bar', figsize =  (14,10), color = 'red', xlabel = 'Tipos', ylabel = 'Percentual (%)')


df = imoveis_residenciais.query('Tipo == "Apartamento"')
df.head(10)





#Verificando quais dados estão nulos do dataframe
df.isnull()


#Calculando a quantidade de dados nulos no Dataframe
df.isnull().sum()





#Para realizar o tratamento dos nulos substituindo por 0 será utilizado metodo: FILLNA


df.fillna(0)


df = df.fillna(0)


df.head()


df.isnull().sum()











df.query('Valor == 0 | Condominio == 0') #Selecionando os valores que tem Valor = 0 ou Condominio = 0


df.query('Valor == 0 | Condominio == 0').index


registros_a_remover = df.query('Valor == 0 | Condominio == 0').index 


 df.drop(registros_a_remover, axis=0, inplace = True) # Removendo todas as linhas que contem registros com valor 0


df.query('Valor == 0 | Condominio == 0')


df.head()


df.Tipo.unique()


df.drop('Tipo', axis = 1, inplace = True)


df.head()





df['Quartos']==1


selecao01 = df['Quartos'] == 1
df[selecao01]


df['Valor'] <= 1200


selecao02 = df['Valor'] <= 1200


df[selecao02]


selecao_final = (selecao01) & (selecao02)


df[selecao_final]


df_1 = df[selecao_final]


selecao = (df['Quartos'] >= 2) & (df['Valor'] < 3000) & (df['Area'] > 70 )


selecao.head()


df[selecao]


df_2 = df[selecao]





df.to_csv('dados_apartamentos.csv', index = False, sep = ';')


pd.read_csv('dados_apartamentos.csv', sep = ';')


df_1.to_csv('filtro_01.csv', index = False, sep = ';')


df_2.to_csv('filtro_02.csv', index = False, sep = ';')





## Criando Conlunas numéricas


url = 'https://raw.githubusercontent.com/alura-cursos/pandas-conhecendo-a-biblioteca/main/base-de-dados/aluguel.csv'
dados = pd.read_csv(url, sep = ';')


dados['Valor_por_mes'] = dados['Valor'] + dados['Condominio']
dados.head()


dados['Valor_por_ano'] = dados['Valor_por_mes'] * 12 + dados['IPTU']


dados.head()



